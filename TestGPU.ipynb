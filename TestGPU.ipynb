{
 "cells": [
  {
   "cell_type": "code",
   "execution_count": 1,
   "metadata": {},
   "outputs": [],
   "source": [
    "%reload_ext GPU"
   ]
  },
  {
   "cell_type": "code",
   "execution_count": 2,
   "metadata": {},
   "outputs": [
    {
     "name": "stdout",
     "output_type": "stream",
     "text": [
      "Saving current environment... \n",
      "Executing GPU code.\n",
      "('Epoch:', '0050', 'cost=', '0.155268326', 'W=', 0.40607232, 'b=', -0.32423052)\n",
      "('Epoch:', '0100', 'cost=', '0.146221086', 'W=', 0.3967658, 'b=', -0.25728)\n",
      "('Epoch:', '0150', 'cost=', '0.138218775', 'W=', 0.38801277, 'b=', -0.19431125)\n",
      "('Epoch:', '0200', 'cost=', '0.131140709', 'W=', 0.37978032, 'b=', -0.13508745)\n",
      "('Epoch:', '0250', 'cost=', '0.124880299', 'W=', 0.37203747, 'b=', -0.079386204)\n",
      "('Epoch:', '0300', 'cost=', '0.119343027', 'W=', 0.36475512, 'b=', -0.026997665)\n",
      "('Epoch:', '0350', 'cost=', '0.114445448', 'W=', 0.35790595, 'b=', 0.022275034)\n",
      "('Epoch:', '0400', 'cost=', '0.110113673', 'W=', 0.3514641, 'b=', 0.068617195)\n",
      "('Epoch:', '0450', 'cost=', '0.106282383', 'W=', 0.3454054, 'b=', 0.1122032)\n",
      "('Epoch:', '0500', 'cost=', '0.102893770', 'W=', 0.3397071, 'b=', 0.15319698)\n",
      "('Epoch:', '0550', 'cost=', '0.099896729', 'W=', 0.33434758, 'b=', 0.19175263)\n",
      "('Epoch:', '0600', 'cost=', '0.097246021', 'W=', 0.32930684, 'b=', 0.22801521)\n",
      "('Epoch:', '0650', 'cost=', '0.094901651', 'W=', 0.32456592, 'b=', 0.26212123)\n",
      "('Epoch:', '0700', 'cost=', '0.092828251', 'W=', 0.32010692, 'b=', 0.29419887)\n",
      "('Epoch:', '0750', 'cost=', '0.090994522', 'W=', 0.31591314, 'b=', 0.32436848)\n",
      "('Epoch:', '0800', 'cost=', '0.089372806', 'W=', 0.31196883, 'b=', 0.35274342)\n",
      "('Epoch:', '0850', 'cost=', '0.087938532', 'W=', 0.30825907, 'b=', 0.37943152)\n",
      "('Epoch:', '0900', 'cost=', '0.086670130', 'W=', 0.30476987, 'b=', 0.40453193)\n",
      "('Epoch:', '0950', 'cost=', '0.085548446', 'W=', 0.3014883, 'b=', 0.428139)\n",
      "('Epoch:', '1000', 'cost=', '0.084556438', 'W=', 0.29840192, 'b=', 0.45034277)\n",
      "Optimization Finished!\n",
      "('Training cost=', 0.08455644, 'W=', 0.29840192, 'b=', 0.45034277, '\\n')\n"
     ]
    }
   ],
   "source": [
    "%%GPUCell\n",
    "\n",
    "import tensorflow as tf\n",
    "import numpy\n",
    "import matplotlib.pyplot as plt\n",
    "from IPython.display import display\n",
    "rng = numpy.random\n",
    "\n",
    "# Parameters\n",
    "learning_rate = 0.01\n",
    "training_epochs = 1000\n",
    "display_step = 50\n",
    "\n",
    "# Training Data\n",
    "train_X = numpy.asarray([3.3,4.4,5.5,6.71,6.93,4.168,9.779,6.182,7.59,2.167,\n",
    "                         7.042,10.791,5.313,7.997,5.654,9.27,3.1])\n",
    "train_Y = numpy.asarray([1.7,2.76,2.09,3.19,1.694,1.573,3.366,2.596,2.53,1.221,\n",
    "                         2.827,3.465,1.65,2.904,2.42,2.94,1.3])\n",
    "n_samples = train_X.shape[0]\n",
    "\n",
    "\n",
    "# tf Graph Input\n",
    "X = tf.placeholder(\"float\")\n",
    "Y = tf.placeholder(\"float\")\n",
    "\n",
    "# Set model weights\n",
    "W = tf.Variable(rng.randn(), name=\"weight\")\n",
    "b = tf.Variable(rng.randn(), name=\"bias\")\n",
    "\n",
    "# Construct a linear model\n",
    "pred = tf.add(tf.multiply(X, W), b)\n",
    "\n",
    "# Mean squared error\n",
    "cost = tf.reduce_sum(tf.pow(pred-Y, 2))/(2*n_samples)\n",
    "# Gradient descent\n",
    "#  Note, minimize() knows to modify W and b because Variable objects are trainable=True by default\n",
    "optimizer = tf.train.GradientDescentOptimizer(learning_rate).minimize(cost)\n",
    "\n",
    "# Initialize the variables (i.e. assign their default value)\n",
    "init = tf.global_variables_initializer()\n",
    "\n",
    "# Start training\n",
    "with tf.Session() as sess:\n",
    "\n",
    "    # Run the initializer\n",
    "    sess.run(init)\n",
    "\n",
    "    # Fit all training data\n",
    "    for epoch in range(training_epochs):\n",
    "        for (x, y) in zip(train_X, train_Y):\n",
    "            sess.run(optimizer, feed_dict={X: x, Y: y})\n",
    "\n",
    "        # Display logs per epoch step\n",
    "        if (epoch+1) % display_step == 0:\n",
    "            c = sess.run(cost, feed_dict={X: train_X, Y: train_Y})\n",
    "            print(\"Epoch:\", '%04d' % (epoch+1), \"cost=\", \"{:.9f}\".format(c), \\\n",
    "                \"W=\", sess.run(W), \"b=\", sess.run(b))\n",
    "\n",
    "    print(\"Optimization Finished!\")\n",
    "    training_cost = sess.run(cost, feed_dict={X: train_X, Y: train_Y})\n",
    "    print(\"Training cost=\", training_cost, \"W=\", sess.run(W), \"b=\", sess.run(b), '\\n')\n",
    "\n",
    "    res = sess.run(W) * train_X + sess.run(b)"
   ]
  },
  {
   "cell_type": "code",
   "execution_count": 3,
   "metadata": {},
   "outputs": [],
   "source": [
    "import matplotlib.pyplot as plt"
   ]
  },
  {
   "cell_type": "code",
   "execution_count": 4,
   "metadata": {},
   "outputs": [
    {
     "data": {
      "image/png": "[encoded data removed]",
      "text/plain": [
       "<Figure size 432x288 with 1 Axes>"
      ]
     },
     "metadata": {
      "needs_background": "light"
     },
     "output_type": "display_data"
    }
   ],
   "source": [
    "\n",
    "\n",
    "# Graphic display\n",
    "plt.plot(train_X, train_Y, 'ro', label='Original data')\n",
    "plt.plot(train_X, res, label='Fitted line')\n",
    "plt.legend()\n",
    "plt.show()"
   ]
  }
 ],
 "metadata": {
  "kernelspec": {
   "display_name": "Python 2",
   "language": "python",
   "name": "python2"
  },
  "language_info": {
   "codemirror_mode": {
    "name": "ipython",
    "version": 2
   },
   "file_extension": ".py",
   "mimetype": "text/x-python",
   "name": "python",
   "nbconvert_exporter": "python",
   "pygments_lexer": "ipython2",
   "version": "2.7.16"
  }
 },
 "nbformat": 4,
 "nbformat_minor": 2
}
